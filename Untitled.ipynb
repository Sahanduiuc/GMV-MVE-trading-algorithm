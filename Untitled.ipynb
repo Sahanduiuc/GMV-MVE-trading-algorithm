{
 "cells": [
  {
   "cell_type": "code",
   "execution_count": 1,
   "metadata": {
    "collapsed": true
   },
   "outputs": [],
   "source": [
    "from GMTA import *"
   ]
  },
  {
   "cell_type": "code",
   "execution_count": 15,
   "metadata": {
    "collapsed": true
   },
   "outputs": [],
   "source": [
    "g = GMTA_BDA(scodes = ['BABA','SQQQ','XLE','XLI','XLK','XLU','XLP','XLRE','RH','UVXY'],quandl_apikey='rixaXs71r2KgkmPHW9jZ')"
   ]
  },
  {
   "cell_type": "code",
   "execution_count": 16,
   "metadata": {},
   "outputs": [],
   "source": [
    "d1 = g.quandl_test_data_generator(trade_on='open')\n",
    "d2 = g.quandl_test_data_generator(trade_on='close')"
   ]
  },
  {
   "cell_type": "code",
   "execution_count": 17,
   "metadata": {},
   "outputs": [],
   "source": [
    "a1,b1,c1,d1 = g.trading_simulator(d1['data'])\n",
    "a2,b2,c2,d2 = g.trading_simulator(d2['data'])"
   ]
  },
  {
   "cell_type": "code",
   "execution_count": 11,
   "metadata": {},
   "outputs": [],
   "source": [
    "import matplotlib.pyplot as plt\n",
    "%matplotlib inline"
   ]
  },
  {
   "cell_type": "code",
   "execution_count": 20,
   "metadata": {},
   "outputs": [],
   "source": [
    "s1 = [1]\n",
    "for i in a1[-240:]:\n",
    "    s1.append(s1[-1]*(1+i))\n",
    "s2 = [1]\n",
    "for i in a2[-240:]:\n",
    "    s2.append(s2[-1]*(1+i))"
   ]
  },
  {
   "cell_type": "code",
   "execution_count": 22,
   "metadata": {},
   "outputs": [
    {
     "data": {
      "text/plain": [
       "[<matplotlib.lines.Line2D at 0x11d950828>]"
      ]
     },
     "execution_count": 22,
     "metadata": {},
     "output_type": "execute_result"
    },
    {
     "data": {
      "image/png": "[encoded data removed]",
      "text/plain": [
       "<Figure size 432x288 with 1 Axes>"
      ]
     },
     "metadata": {},
     "output_type": "display_data"
    }
   ],
   "source": [
    "plt.plot(s1)\n",
    "plt.plot(s2)"
   ]
  },
  {
   "cell_type": "code",
   "execution_count": 62,
   "metadata": {
    "collapsed": true
   },
   "outputs": [],
   "source": [
    "class SAST_STRO:\n",
    "    def __init__(self):\n",
    "        self.stro = pd.DataFrame()\n",
    "    def __call__(self,scode,mode = 'close'):\n",
    "        assert mode in ['close','open']\n",
    "        scode = scode.upper()\n",
    "        sp = scode+'_'+mode\n",
    "        if not sp in self.stro.columns:\n",
    "            d = quandl.get('EOD/'+scode)\n",
    "            if mode == 'close':\n",
    "                self.stro[sp] = d['Adj_Close']\n",
    "            else:\n",
    "                self.stro[sp] = d['Adj_Open']\n",
    "        return ((self.stro[sp]-self.stro[sp].shift(1))/self.stro[sp].shift(1)).dropna()\n"
   ]
  },
  {
   "cell_type": "code",
   "execution_count": 202,
   "metadata": {
    "collapsed": true
   },
   "outputs": [],
   "source": [
    "from scipy.optimize import minimize\n",
    "import numpy as np\n",
    "n_count = 0\n",
    "stro = SAST_STRO()\n",
    "reg_table = {}"
   ]
  },
  {
   "cell_type": "code",
   "execution_count": 180,
   "metadata": {
    "code_folding": [
     18,
     29
    ]
   },
   "outputs": [],
   "source": [
    "\n",
    "class AST_CORE:\n",
    "    def __init__(self,name):\n",
    "        global n_count\n",
    "        self.name = name\n",
    "        if name is None:\n",
    "            self.name = '!DEF'+str(n_count)\n",
    "            n_count += 1\n",
    "        reg_table[self.name] = self\n",
    "    def __call__(self,**args):\n",
    "        #simulate return (return,weights)\n",
    "        return None,None\n",
    "    def otd(self,**args):\n",
    "        #one decision return weights\n",
    "        return None\n",
    "    def feed(self):\n",
    "        return None\n",
    "class AST_GM(AST_CORE):\n",
    "    def __init__(\n",
    "        self,\n",
    "        sub_assets,\n",
    "        name = None,\n",
    "        period = 30,\n",
    "        no_short = True,\n",
    "        optimizer_tol = 1e-15,\n",
    "        optimizer_maxiter = 600,\n",
    "        extent = False,\n",
    "        trade_on = 'close',\n",
    "        p = 0.2\n",
    "    ):\n",
    "        AST_CORE.__init__(self,name)\n",
    "        self.no_short = no_short\n",
    "        self.tol = optimizer_tol\n",
    "        self.maxiter = optimizer_maxiter\n",
    "        self.period = period\n",
    "        self.simple_assets = set()\n",
    "        self.assets = sub_assets\n",
    "        self.trade_on = trade_on\n",
    "        self.extent = extent\n",
    "        self.p = p\n",
    "        for asset in sub_assets:\n",
    "            if type(asset) is str:\n",
    "                self.simple_assets.add(asset.upper())\n",
    "            else:\n",
    "                self.simple_assets = self.simple_assets.union(asset.simple_assets)\n",
    "                \n",
    "    def feed(self):\n",
    "        self.data = pd.DataFrame()\n",
    "        self.weights = {}\n",
    "        self.weight = pd.DataFrame(columns = self.simple_assets)\n",
    "        for asset in self.assets:\n",
    "            if type(asset) is str:\n",
    "                self.data[asset] = stro(asset,mode=self.trade_on)\n",
    "            else:\n",
    "                asset.feed()\n",
    "                self.data[asset.name] = asset()\n",
    "        if self.extent:\n",
    "            self.data = self.data.fillna(0)\n",
    "        else:\n",
    "            self.data = self.data.dropna()\n",
    "                \n",
    "    def g_var(self,w,i):\n",
    "        cov = self.data.iloc[i:i+self.period].cov()\n",
    "        return np.sqrt(np.dot(np.matmul(w,cov.values),w))\n",
    "    def s_rat(self,w,i):\n",
    "        mean = self.data.iloc[i:i+self.period].mean()\n",
    "        return (np.dot(w,mean.values))/self.g_var(w,i)\n",
    "    \n",
    "    def GMV(self,i):\n",
    "        w0 = np.array([1.0/len(self.assets)]*len(self.assets))\n",
    "        params = {\n",
    "            'fun':lambda x:self.g_var(x,i),\n",
    "            'x0':w0,\n",
    "            'method':'SLSQP',\n",
    "            'constraints':{\n",
    "                'type':'eq',\n",
    "                'fun':(lambda x:sum(x)-1)\n",
    "            },\n",
    "            'tol':self.tol,\n",
    "            'options':{\n",
    "                'maxiter':self.maxiter\n",
    "            }\n",
    "        }\n",
    "        if self.no_short:\n",
    "            params['bounds'] = [(0,1) for i in range(len(self.assets))]\n",
    "        gmv = minimize(**params)\n",
    "        return gmv.x\n",
    "    \n",
    "    def MVE(self,i):\n",
    "        w0 = np.array([1.0/len(self.assets)]*len(self.assets))\n",
    "        params = {\n",
    "            'fun':lambda x:-self.s_rat(x,i),\n",
    "            'x0':w0,\n",
    "            'method':'SLSQP',\n",
    "            'constraints':{\n",
    "                'type':'eq',\n",
    "                'fun':(lambda x:sum(x)-1)\n",
    "            },\n",
    "            'tol':self.tol,\n",
    "            'options':{\n",
    "                'maxiter':self.maxiter\n",
    "            }\n",
    "        }\n",
    "        if self.no_short:\n",
    "            params['bounds'] = [(0,1) for i in range(len(self.assets))]\n",
    "        mve = minimize(**params)\n",
    "        return mve.x\n",
    "        \n",
    "    def __call__(self):\n",
    "        res = pd.Series(index=self.data.index)\n",
    "        cols = []\n",
    "        for x in self.assets:\n",
    "            if type(x) is str:\n",
    "                cols.append(x)\n",
    "            else:\n",
    "                cols.append(x.name)\n",
    "        rw = pd.DataFrame(index = self.data.index,columns = cols)\n",
    "        \n",
    "        \n",
    "        for i in range(self.period,len(self.data)):\n",
    "            gmv = self.GMV(i-self.period)\n",
    "            mve = self.MVE(i-self.period)\n",
    "            rw.iloc[i] = self.p*gmv + (1-self.p)*mve\n",
    "            res.iloc[i] = np.dot(rw.iloc[i-1],self.data.iloc[i])\n",
    "        return res,rw\n",
    "\n",
    "        \n",
    "        \n",
    "        "
   ]
  },
  {
   "cell_type": "code",
   "execution_count": 52,
   "metadata": {
    "collapsed": true
   },
   "outputs": [],
   "source": [
    "import quandl"
   ]
  },
  {
   "cell_type": "code",
   "execution_count": 90,
   "metadata": {
    "collapsed": true
   },
   "outputs": [],
   "source": [
    "quandl.ApiConfig.api_key = 'rixaXs71r2KgkmPHW9jZ'"
   ]
  },
  {
   "cell_type": "code",
   "execution_count": 204,
   "metadata": {
    "scrolled": true
   },
   "outputs": [
    {
     "name": "stdout",
     "output_type": "stream",
     "text": [
      "\n"
     ]
    }
   ],
   "source": [
    "stro('BABA')\n",
    "stro('YRD')\n",
    "stro('TQQQ')\n",
    "stro('SQQQ')\n",
    "stro('UVXY')\n",
    "stro('RH')\n",
    "print()"
   ]
  },
  {
   "cell_type": "code",
   "execution_count": 168,
   "metadata": {},
   "outputs": [],
   "source": [
    "#stro.stro = stro.stro.dropna().iloc[:120]"
   ]
  },
  {
   "cell_type": "code",
   "execution_count": 205,
   "metadata": {},
   "outputs": [],
   "source": [
    "g = AST_GM(sub_assets=['BABA','YRD','TQQQ','SQQQ','UVXY','RH'],period = 25,p=0.35)\n",
    "g.feed()\n",
    "a,b = g()"
   ]
  },
  {
   "cell_type": "code",
   "execution_count": 208,
   "metadata": {},
   "outputs": [
    {
     "data": {
      "text/plain": [
       "[<matplotlib.lines.Line2D at 0x11e04a320>]"
      ]
     },
     "execution_count": 208,
     "metadata": {},
     "output_type": "execute_result"
    },
    {
     "data": {
      "image/png": "[encoded data removed]",
      "text/plain": [
       "<Figure size 432x288 with 1 Axes>"
      ]
     },
     "metadata": {},
     "output_type": "display_data"
    }
   ],
   "source": [
    "(a+1).dropna()[-240:]\n",
    "s = [1]\n",
    "for x in (a+1).dropna():\n",
    "    s.append(s[-1]*x)\n",
    "plt.plot(s)"
   ]
  },
  {
   "cell_type": "code",
   "execution_count": 209,
   "metadata": {},
   "outputs": [
    {
     "data": {
      "text/plain": [
       "<matplotlib.axes._subplots.AxesSubplot at 0x11de4a550>"
      ]
     },
     "execution_count": 209,
     "metadata": {},
     "output_type": "execute_result"
    },
    {
     "data": {
      "image/png": "[encoded data removed]",
      "text/plain": [
       "<Figure size 432x288 with 1 Axes>"
      ]
     },
     "metadata": {},
     "output_type": "display_data"
    }
   ],
   "source": [
    "a.hist(bins=20)"
   ]
  },
  {
   "cell_type": "code",
   "execution_count": 156,
   "metadata": {},
   "outputs": [
    {
     "data": {
      "text/plain": [
       "-0.0277549203383"
      ]
     },
     "execution_count": 156,
     "metadata": {},
     "output_type": "execute_result"
    }
   ],
   "source": [
    "np.array([0.0103489,0.328037,0.661614]).dot(np.array([-0.018977,-0.032487,-0.025546]))"
   ]
  },
  {
   "cell_type": "code",
   "execution_count": 26,
   "metadata": {
    "collapsed": true
   },
   "outputs": [],
   "source": [
    "class "
   ]
  },
  {
   "cell_type": "code",
   "execution_count": 38,
   "metadata": {},
   "outputs": [],
   "source": [
    "import pandas as pd"
   ]
  },
  {
   "cell_type": "code",
   "execution_count": 39,
   "metadata": {
    "collapsed": true
   },
   "outputs": [],
   "source": [
    "a = pd.DataFrame()"
   ]
  },
  {
   "cell_type": "code",
   "execution_count": 42,
   "metadata": {
    "collapsed": true
   },
   "outputs": [],
   "source": [
    "a['x'] = pd.Series([1,2,4])"
   ]
  },
  {
   "cell_type": "code",
   "execution_count": 45,
   "metadata": {},
   "outputs": [],
   "source": [
    "a['d'] = pd.Series([1])"
   ]
  },
  {
   "cell_type": "code",
   "execution_count": 47,
   "metadata": {},
   "outputs": [
    {
     "data": {
      "text/plain": [
       "0    1.0\n",
       "1    NaN\n",
       "2    NaN\n",
       "Name: d, dtype: float64"
      ]
     },
     "execution_count": 47,
     "metadata": {},
     "output_type": "execute_result"
    }
   ],
   "source": [
    "a['d']"
   ]
  },
  {
   "cell_type": "code",
   "execution_count": 65,
   "metadata": {},
   "outputs": [],
   "source": [
    "a = set()\n",
    "b = set()"
   ]
  },
  {
   "cell_type": "code",
   "execution_count": 66,
   "metadata": {
    "collapsed": true
   },
   "outputs": [],
   "source": [
    "a.add(1)\n",
    "b.add(1)\n",
    "b.add(2)"
   ]
  },
  {
   "cell_type": "code",
   "execution_count": 79,
   "metadata": {},
   "outputs": [],
   "source": [
    "b = {}\n",
    "class A:\n",
    "    def __init__(self):\n",
    "        self.x = 3\n",
    "        b['sss'] = self\n",
    "        self.y=2\n",
    "    def t(self):\n",
    "        return self"
   ]
  },
  {
   "cell_type": "code",
   "execution_count": 81,
   "metadata": {},
   "outputs": [],
   "source": [
    "w = A()"
   ]
  },
  {
   "cell_type": "code",
   "execution_count": 83,
   "metadata": {},
   "outputs": [
    {
     "data": {
      "text/plain": [
       "2"
      ]
     },
     "execution_count": 83,
     "metadata": {},
     "output_type": "execute_result"
    }
   ],
   "source": [
    "b['sss'].y"
   ]
  },
  {
   "cell_type": "code",
   "execution_count": 77,
   "metadata": {},
   "outputs": [
    {
     "data": {
      "text/plain": [
       "3"
      ]
     },
     "execution_count": 77,
     "metadata": {},
     "output_type": "execute_result"
    }
   ],
   "source": [
    "w.t().x"
   ]
  },
  {
   "cell_type": "code",
   "execution_count": 86,
   "metadata": {},
   "outputs": [],
   "source": [
    "w = pd.DataFrame(columns=['1','3'],index=['a','c'])"
   ]
  },
  {
   "cell_type": "code",
   "execution_count": 88,
   "metadata": {},
   "outputs": [
    {
     "data": {
      "text/plain": [
       "a   NaN\n",
       "d   NaN\n",
       "dtype: float64"
      ]
     },
     "execution_count": 88,
     "metadata": {},
     "output_type": "execute_result"
    }
   ],
   "source": [
    "dx - wt - rt\n",
    "x0\n",
    "x1\n",
    "x2\n",
    "x3 - w1 - 0\n",
    "x4 - w2 - <x4,w1>\n",
    "x5 - w3 - <x5,w2>"
   ]
  }
 ],
 "metadata": {
  "kernelspec": {
   "display_name": "Python [conda root]",
   "language": "python",
   "name": "conda-root-py"
  },
  "language_info": {
   "codemirror_mode": {
    "name": "ipython",
    "version": 3
   },
   "file_extension": ".py",
   "mimetype": "text/x-python",
   "name": "python",
   "nbconvert_exporter": "python",
   "pygments_lexer": "ipython3",
   "version": "3.5.3"
  },
  "latex_envs": {
   "LaTeX_envs_menu_present": true,
   "autocomplete": true,
   "bibliofile": "biblio.bib",
   "cite_by": "apalike",
   "current_citInitial": 1,
   "eqLabelWithNumbers": true,
   "eqNumInitial": 1,
   "hotkeys": {
    "equation": "Ctrl-E",
    "itemize": "Ctrl-I"
   },
   "labels_anchors": false,
   "latex_user_defs": false,
   "report_style_numbering": true,
   "user_envs_cfg": false
  }
 },
 "nbformat": 4,
 "nbformat_minor": 2
}
